{
 "cells": [
  {
   "cell_type": "code",
   "execution_count": 1,
   "id": "713f639d",
   "metadata": {},
   "outputs": [
    {
     "name": "stdout",
     "output_type": "stream",
     "text": [
      "Выбран файл: D:/Workspace/homelib/lib/d.fb2-172703-173908.zip\n"
     ]
    }
   ],
   "source": [
    "import os\n",
    "import zipfile\n",
    "from lxml import etree\n",
    "import pandas as pd\n",
    "import tkinter as tk\n",
    "from tkinter import filedialog\n",
    "\n",
    "def analyze_xml_in_zip(archive, fname, file_path):\n",
    "    try:\n",
    "        with archive.open(fname) as fileobj:\n",
    "            for event, elem in etree.iterparse(fileobj, events=(\"start\",)):\n",
    "                nsmap = dict(elem.nsmap)\n",
    "                root_tag = elem.tag\n",
    "                info = {\n",
    "                    \"zipfile\": os.path.basename(file_path),\n",
    "                    \"xml_filename\": fname,\n",
    "                    \"root_tag\": root_tag\n",
    "                }\n",
    "                for k, v in nsmap.items():\n",
    "                    info[f'ns_{k if k else \"default\"}'] = v\n",
    "                return info\n",
    "    except Exception as e:\n",
    "        return {\n",
    "            \"zipfile\": os.path.basename(file_path),\n",
    "            \"xml_filename\": fname,\n",
    "            \"root_tag\": None,\n",
    "            \"error\": str(e)\n",
    "        }\n",
    "\n",
    "def collect_ns_info_zip(file_path):\n",
    "    records = []\n",
    "    with zipfile.ZipFile(file_path) as archive:\n",
    "        for fname in archive.namelist():\n",
    "            if fname.endswith(\".fb2\") and not fname.endswith(\"/\"):\n",
    "                info = analyze_xml_in_zip(archive, fname, file_path)\n",
    "                records.append(info)\n",
    "    return pd.DataFrame(records)\n",
    "\n",
    "def collect_all_ns_zip(file_name):\n",
    "    folder = os.path.dirname(file_name)\n",
    "    zip_files = [os.path.join(folder, f) for f in os.listdir(folder) if f.endswith(\".zip\") and os.path.isfile(os.path.join(folder, f))]\n",
    "    all_result = pd.DataFrame()\n",
    "    for zip_path in zip_files:\n",
    "        df = collect_ns_info_zip(zip_path)\n",
    "        all_result = pd.concat([all_result, df], ignore_index=True)\n",
    "    return all_result\n",
    "\n",
    "def select_zip_file(initialdir='./lib'):\n",
    "    \"\"\"Открывает диалог выбора zip-файла и возвращает путь к выбранному файлу или None.\"\"\"\n",
    "    root = tk.Tk()\n",
    "    root.withdraw()\n",
    "    file_path = filedialog.askopenfilename(\n",
    "        initialdir=initialdir,\n",
    "        title=\"Выберите файл архива в рабочей папке\",\n",
    "        filetypes=[(\"Zip files\", \"*.zip\"), (\"All files\", \"*.*\")]\n",
    "    )\n",
    "    if file_path:\n",
    "        print(f\"Выбран файл: {file_path}\")\n",
    "    else:\n",
    "        print(\"Файл не выбран.\")\n",
    "    root.destroy()\n",
    "    return file_path\n",
    "\n",
    "# Пример вызова:\n",
    "file_path = select_zip_file()\n",
    "df = collect_all_ns_zip(file_path)"
   ]
  }
 ],
 "metadata": {
  "kernelspec": {
   "display_name": ".venv (3.11.9)",
   "language": "python",
   "name": "python3"
  },
  "language_info": {
   "codemirror_mode": {
    "name": "ipython",
    "version": 3
   },
   "file_extension": ".py",
   "mimetype": "text/x-python",
   "name": "python",
   "nbconvert_exporter": "python",
   "pygments_lexer": "ipython3",
   "version": "3.11.9"
  }
 },
 "nbformat": 4,
 "nbformat_minor": 5
}
