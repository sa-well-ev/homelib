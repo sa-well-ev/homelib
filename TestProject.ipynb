{
 "cells": [
  {
   "cell_type": "code",
   "execution_count": 2,
   "id": "15c3ec53",
   "metadata": {},
   "outputs": [
    {
     "name": "stdout",
     "output_type": "stream",
     "text": [
      "Выбран файл: D:/Workspace/homelib/lib/d.fb2-172703-173908.zip\n"
     ]
    }
   ],
   "source": [
    "from main import select_zip_file\n",
    "from files_processing import process_zipfolder\n",
    "import xml_processor\n",
    "import functools\n",
    "\n",
    "file_path = select_zip_file()\n",
    "\n",
    "tag_processor = functools.partial(xml_processor.tag_description_child, child_tag_name=\"lang\")\n",
    "\n",
    "# df = process_zipfolder(file_path, xml_processor.tag_description)\n",
    "df = process_zipfolder(file_path, tag_processor)\n",
    "\n"
   ]
  },
  {
   "cell_type": "code",
   "execution_count": 5,
   "id": "77697972",
   "metadata": {},
   "outputs": [
    {
     "data": {
      "text/plain": [
       "array(['ru', 'en', 'русский', 'EN-US', '', None, 'be', 'es', 'RU', 'ba'],\n",
       "      dtype=object)"
      ]
     },
     "execution_count": 5,
     "metadata": {},
     "output_type": "execute_result"
    }
   ],
   "source": [
    "df['lang1'].unique()"
   ]
  }
 ],
 "metadata": {
  "kernelspec": {
   "display_name": ".venv (3.11.9)",
   "language": "python",
   "name": "python3"
  },
  "language_info": {
   "codemirror_mode": {
    "name": "ipython",
    "version": 3
   },
   "file_extension": ".py",
   "mimetype": "text/x-python",
   "name": "python",
   "nbconvert_exporter": "python",
   "pygments_lexer": "ipython3",
   "version": "3.11.9"
  }
 },
 "nbformat": 4,
 "nbformat_minor": 5
}
