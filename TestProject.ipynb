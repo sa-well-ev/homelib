{
 "cells": [
  {
   "cell_type": "code",
   "execution_count": 1,
   "id": "15c3ec53",
   "metadata": {},
   "outputs": [],
   "source": [
    "from main import select_zip_file\n",
    "from files_processing import process_zipfolder\n",
    "\n",
    "# file_path = select_zip_file()\n",
    "file_path = \"d:\\Workspace\\homelib\\lib\\d.fb2-009373-367300.zip\"\n",
    "# df = process_zipfolder(file_path, func=\"description_taglist\")\n",
    "# df = process_zipfolder(file_path, func=\"description_child_ontag\", child_tag_name=\"author\")\n",
    "# df = process_zipfolder(file_path, func=\"description_child_ontag_all\", child_tag_name=\"title-info/author\")\n",
    "# df = process_zipfolder(file_path, func=\"get_authors_string\")\n",
    "df = process_zipfolder(file_path, func=\"catalog\")\n",
    "# df = process_zipfolder(file_path, func=\"description_string\")"
   ]
  },
  {
   "cell_type": "code",
   "execution_count": null,
   "id": "77697972",
   "metadata": {},
   "outputs": [],
   "source": [
    "df['lang1'].unique()"
   ]
  }
 ],
 "metadata": {
  "kernelspec": {
   "display_name": ".venv (3.11.9)",
   "language": "python",
   "name": "python3"
  },
  "language_info": {
   "codemirror_mode": {
    "name": "ipython",
    "version": 3
   },
   "file_extension": ".py",
   "mimetype": "text/x-python",
   "name": "python",
   "nbconvert_exporter": "python",
   "pygments_lexer": "ipython3",
   "version": "3.11.9"
  }
 },
 "nbformat": 4,
 "nbformat_minor": 5
}
